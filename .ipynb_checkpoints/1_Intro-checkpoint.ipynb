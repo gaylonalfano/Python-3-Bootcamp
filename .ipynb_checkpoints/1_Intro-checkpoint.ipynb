{
 "cells": [
  {
   "cell_type": "code",
   "execution_count": 1,
   "metadata": {},
   "outputs": [
    {
     "name": "stdout",
     "output_type": "stream",
     "text": [
      "Hello World!\n"
     ]
    }
   ],
   "source": [
    "print(\"Hello World!\")"
   ]
  },
  {
   "cell_type": "code",
   "execution_count": 2,
   "metadata": {},
   "outputs": [
    {
     "data": {
      "text/plain": [
       "44"
      ]
     },
     "execution_count": 2,
     "metadata": {},
     "output_type": "execute_result"
    }
   ],
   "source": [
    "43 + 1"
   ]
  },
  {
   "cell_type": "markdown",
   "metadata": {},
   "source": [
    "## The special value NONE\n",
    "Represents the idea of nothing. Basically Python's equivalent of NULL. Allows you to create a variable which can act as an empty container until later needed."
   ]
  },
  {
   "cell_type": "markdown",
   "metadata": {},
   "source": [
    "## Declaring Strings"
   ]
  },
  {
   "cell_type": "code",
   "execution_count": 3,
   "metadata": {},
   "outputs": [
    {
     "data": {
      "text/plain": [
       "'a hat'"
      ]
     },
     "execution_count": 3,
     "metadata": {},
     "output_type": "execute_result"
    }
   ],
   "source": [
    "my_other_str = 'a hat'\n",
    "my_other_str"
   ]
  },
  {
   "cell_type": "code",
   "execution_count": 4,
   "metadata": {},
   "outputs": [
    {
     "data": {
      "text/plain": [
       "'a hat'"
      ]
     },
     "execution_count": 4,
     "metadata": {},
     "output_type": "execute_result"
    }
   ],
   "source": [
    "my_str = \"a hat\"\n",
    "my_str"
   ]
  },
  {
   "cell_type": "code",
   "execution_count": 5,
   "metadata": {},
   "outputs": [
    {
     "data": {
      "text/plain": [
       "\"he said, 'Hello there!'\""
      ]
     },
     "execution_count": 5,
     "metadata": {},
     "output_type": "execute_result"
    }
   ],
   "source": [
    "msg = \"he said, 'Hello there!'\"\n",
    "msg"
   ]
  },
  {
   "cell_type": "markdown",
   "metadata": {},
   "source": [
    "## Escape sequences/characters"
   ]
  },
  {
   "cell_type": "code",
   "execution_count": 6,
   "metadata": {},
   "outputs": [
    {
     "data": {
      "text/plain": [
       "'hi\\nthere'"
      ]
     },
     "execution_count": 6,
     "metadata": {},
     "output_type": "execute_result"
    }
   ],
   "source": [
    "new_line = \"hi\\nthere\"\n",
    "new_line"
   ]
  },
  {
   "cell_type": "code",
   "execution_count": 7,
   "metadata": {},
   "outputs": [
    {
     "name": "stdout",
     "output_type": "stream",
     "text": [
      "hi\n",
      "there\n"
     ]
    }
   ],
   "source": [
    "print(new_line)"
   ]
  },
  {
   "cell_type": "code",
   "execution_count": 8,
   "metadata": {},
   "outputs": [
    {
     "data": {
      "text/plain": [
       "'this is a backslash \\\\'"
      ]
     },
     "execution_count": 8,
     "metadata": {},
     "output_type": "execute_result"
    }
   ],
   "source": [
    "str = \"this is a backslash \\\\\"\n",
    "str"
   ]
  },
  {
   "cell_type": "code",
   "execution_count": 9,
   "metadata": {},
   "outputs": [
    {
     "name": "stdout",
     "output_type": "stream",
     "text": [
      "this is a backslash \\\n"
     ]
    }
   ],
   "source": [
    "print(str)"
   ]
  },
  {
   "cell_type": "code",
   "execution_count": 10,
   "metadata": {},
   "outputs": [
    {
     "data": {
      "text/plain": [
       "'/\\\\/\\\\/\\\\'"
      ]
     },
     "execution_count": 10,
     "metadata": {},
     "output_type": "execute_result"
    }
   ],
   "source": [
    "mountains = \"/\\\\/\\\\/\\\\\"\n",
    "mountains"
   ]
  },
  {
   "cell_type": "code",
   "execution_count": 11,
   "metadata": {},
   "outputs": [
    {
     "name": "stdout",
     "output_type": "stream",
     "text": [
      "/\\/\\/\\\n"
     ]
    }
   ],
   "source": [
    "print(mountains)"
   ]
  },
  {
   "cell_type": "code",
   "execution_count": 12,
   "metadata": {},
   "outputs": [
    {
     "data": {
      "text/plain": [
       "'he said \"ha ha\"'"
      ]
     },
     "execution_count": 12,
     "metadata": {},
     "output_type": "execute_result"
    }
   ],
   "source": [
    "str = 'he said \\\"ha ha\\\"'\n",
    "str"
   ]
  },
  {
   "cell_type": "code",
   "execution_count": 13,
   "metadata": {},
   "outputs": [
    {
     "data": {
      "text/plain": [
       "\"he said 'ha ha'\""
      ]
     },
     "execution_count": 13,
     "metadata": {},
     "output_type": "execute_result"
    }
   ],
   "source": [
    "str = 'he said \\'ha ha\\''\n",
    "str"
   ]
  },
  {
   "cell_type": "code",
   "execution_count": 14,
   "metadata": {},
   "outputs": [
    {
     "name": "stdout",
     "output_type": "stream",
     "text": [
      "he said 'ha ha'\n"
     ]
    }
   ],
   "source": [
    "print(str)"
   ]
  },
  {
   "cell_type": "code",
   "execution_count": 15,
   "metadata": {},
   "outputs": [],
   "source": [
    "greeting = 'hello'\n",
    "name = 'Tony'\n",
    "greeting_name = greeting + \" \" + name"
   ]
  },
  {
   "cell_type": "code",
   "execution_count": 16,
   "metadata": {},
   "outputs": [
    {
     "data": {
      "text/plain": [
       "'hello Tony'"
      ]
     },
     "execution_count": 16,
     "metadata": {},
     "output_type": "execute_result"
    }
   ],
   "source": [
    "greeting_name"
   ]
  },
  {
   "cell_type": "markdown",
   "metadata": {},
   "source": [
    "## Formatting Strings using F-Strings\n",
    "f\"string text here then {var} here.\"  This is basically an updated version of the % operator \"String text of {} here\" % x   ??"
   ]
  },
  {
   "cell_type": "code",
   "execution_count": 17,
   "metadata": {},
   "outputs": [
    {
     "data": {
      "text/plain": [
       "\"I've told you 10 times already!\""
      ]
     },
     "execution_count": 17,
     "metadata": {},
     "output_type": "execute_result"
    }
   ],
   "source": [
    "x = 10\n",
    "formatted = f\"I've told you {x} times already!\"\n",
    "formatted"
   ]
  },
  {
   "cell_type": "code",
   "execution_count": 18,
   "metadata": {},
   "outputs": [
    {
     "name": "stdout",
     "output_type": "stream",
     "text": [
      "Your guess of 8 was incorrect\n"
     ]
    }
   ],
   "source": [
    "guess = 8\n",
    "print(f\"Your guess of {guess} was incorrect\")"
   ]
  },
  {
   "cell_type": "code",
   "execution_count": 19,
   "metadata": {},
   "outputs": [
    {
     "name": "stdout",
     "output_type": "stream",
     "text": [
      "Your guess of 9 was incorrect\n"
     ]
    }
   ],
   "source": [
    "print(f\"Your guess of {guess + 1} was incorrect\")"
   ]
  },
  {
   "cell_type": "code",
   "execution_count": 20,
   "metadata": {},
   "outputs": [
    {
     "name": "stdout",
     "output_type": "stream",
     "text": [
      "Nice try, bluethecat but your guess of 8 was incorrect.\n"
     ]
    }
   ],
   "source": [
    "name = 'bluethecat'\n",
    "print(f\"Nice try, {name} but your guess of {guess} was incorrect.\")"
   ]
  },
  {
   "cell_type": "code",
   "execution_count": 21,
   "metadata": {},
   "outputs": [
    {
     "name": "stdout",
     "output_type": "stream",
     "text": [
      "First Name: Venus, Last Name: Williams\n"
     ]
    }
   ],
   "source": [
    "first = \"Venus\"\n",
    "last = \"Williams\"\n",
    "formatted = f\"First Name: {first}, Last Name: {last}\"\n",
    "formatted\n",
    "print(formatted)"
   ]
  },
  {
   "cell_type": "markdown",
   "metadata": {},
   "source": [
    "## Converting Data Types"
   ]
  },
  {
   "cell_type": "code",
   "execution_count": 22,
   "metadata": {},
   "outputs": [
    {
     "data": {
      "text/plain": [
       "12"
      ]
     },
     "execution_count": 22,
     "metadata": {},
     "output_type": "execute_result"
    }
   ],
   "source": [
    "decimal = 12.56345\n",
    "integer = int(decimal)\n",
    "integer"
   ]
  },
  {
   "cell_type": "code",
   "execution_count": 23,
   "metadata": {},
   "outputs": [
    {
     "data": {
      "text/plain": [
       "int"
      ]
     },
     "execution_count": 23,
     "metadata": {},
     "output_type": "execute_result"
    }
   ],
   "source": [
    "num = 12\n",
    "type(num)"
   ]
  },
  {
   "cell_type": "code",
   "execution_count": 24,
   "metadata": {},
   "outputs": [],
   "source": [
    "num = float(num)"
   ]
  },
  {
   "cell_type": "code",
   "execution_count": 25,
   "metadata": {},
   "outputs": [
    {
     "data": {
      "text/plain": [
       "float"
      ]
     },
     "execution_count": 25,
     "metadata": {},
     "output_type": "execute_result"
    }
   ],
   "source": [
    "type(num)"
   ]
  },
  {
   "cell_type": "markdown",
   "metadata": {},
   "source": [
    "## Restoring default STR function. Accidentally overwrote it. Del STR then use builtin.str\n",
    "Just delete the name that is masking the builtin:\n",
    "\n",
    ">>> set = 'oops'\n",
    ">>> set\n",
    "'oops'\n",
    ">>> del set\n",
    ">>> set\n",
    "<type 'set'>\n",
    "\n",
    "You can always still access the original built-in through the __builtins__ namespace; use this if you want to override the built-in but want to defer to the original still from the override:\n",
    "\n",
    ">>> __builtins__.set\n",
    "<type 'set'>\n",
    "\n",
    "__builtins__ is sourced from the __builtin__ module (Python 2, note the lack of s), or the builtins module (Python 3, with s but no underscores).\n",
    "\n",
    "If you have trouble locating where the masking name is defined, do check all namespaces from your current one up to the built-ins; see Short Description of the Scoping Rules? for what scopes may apply to your current situation."
   ]
  },
  {
   "cell_type": "code",
   "execution_count": 26,
   "metadata": {},
   "outputs": [
    {
     "ename": "NameError",
     "evalue": "name 'builtin' is not defined",
     "output_type": "error",
     "traceback": [
      "\u001b[0;31m---------------------------------------------------------------------------\u001b[0m",
      "\u001b[0;31mNameError\u001b[0m                                 Traceback (most recent call last)",
      "\u001b[0;32m<ipython-input-26-2dc0d1dab877>\u001b[0m in \u001b[0;36m<module>\u001b[0;34m()\u001b[0m\n\u001b[1;32m      1\u001b[0m \u001b[0;32mdel\u001b[0m \u001b[0mstr\u001b[0m\u001b[0;34m\u001b[0m\u001b[0m\n\u001b[0;32m----> 2\u001b[0;31m \u001b[0mbuiltin\u001b[0m\u001b[0;34m.\u001b[0m\u001b[0mstr\u001b[0m\u001b[0;34m\u001b[0m\u001b[0m\n\u001b[0m",
      "\u001b[0;31mNameError\u001b[0m: name 'builtin' is not defined"
     ]
    }
   ],
   "source": [
    "del str\n",
    "builtin.str"
   ]
  },
  {
   "cell_type": "code",
   "execution_count": null,
   "metadata": {},
   "outputs": [],
   "source": [
    "f = 8\n",
    "str(f)"
   ]
  },
  {
   "cell_type": "markdown",
   "metadata": {},
   "source": [
    "## Building a Mileage Converter\n",
    "print(f'Text here {round(text,2)}')"
   ]
  },
  {
   "cell_type": "code",
   "execution_count": null,
   "metadata": {},
   "outputs": [],
   "source": [
    "print(\"How many kilometers did you cycle today?\")\n",
    "kms = float(input())# default returns STR type\n",
    "miles = round(kms/1.60934, 2)\n",
    "print(\"Okay, you said \" + str(kms) + f\". That is {miles} miles.\")"
   ]
  },
  {
   "cell_type": "code",
   "execution_count": null,
   "metadata": {},
   "outputs": [],
   "source": [
    "# Trying F-String\n",
    "print(f\"Okay, you said {kms} kilometers. That is {miles} miles.\")"
   ]
  },
  {
   "cell_type": "code",
   "execution_count": null,
   "metadata": {},
   "outputs": [],
   "source": [
    "# Can even embed round() into the F-String\n",
    "print(f\"That is equal to {round(miles, 1)} miles.\")"
   ]
  },
  {
   "cell_type": "markdown",
   "metadata": {},
   "source": [
    "## Boolean and Conditional Logic"
   ]
  },
  {
   "cell_type": "code",
   "execution_count": null,
   "metadata": {},
   "outputs": [],
   "source": [
    "from random import randint\n",
    "num = randint(1, 1000)\n",
    "\n",
    "if num%2 != 0:\n",
    "    print(\"odd\")\n",
    "else:\n",
    "    print(\"even\")"
   ]
  },
  {
   "cell_type": "code",
   "execution_count": null,
   "metadata": {},
   "outputs": [],
   "source": [
    "num%2 == 0"
   ]
  },
  {
   "cell_type": "markdown",
   "metadata": {},
   "source": [
    "### Truthy/Falsey?\n",
    "None, '' empty strings, 0, empty objects, etc. are FALSEY."
   ]
  },
  {
   "cell_type": "code",
   "execution_count": null,
   "metadata": {},
   "outputs": [],
   "source": [
    "x = 1\n",
    "x is 1"
   ]
  },
  {
   "cell_type": "code",
   "execution_count": null,
   "metadata": {},
   "outputs": [],
   "source": [
    "x is 0"
   ]
  },
  {
   "cell_type": "code",
   "execution_count": null,
   "metadata": {},
   "outputs": [],
   "source": [
    "if 0: # false\n",
    "    print('yay!')"
   ]
  },
  {
   "cell_type": "code",
   "execution_count": null,
   "metadata": {},
   "outputs": [],
   "source": [
    "if 1: # true\n",
    "    print('yay?')"
   ]
  },
  {
   "cell_type": "code",
   "execution_count": null,
   "metadata": {},
   "outputs": [],
   "source": [
    "# Example of truthy/falsey\n",
    "animal = input(\"Enter your favorite animal\")\n",
    "if animal: # Inherantly TRUTHY since it's not an empty str\n",
    "    print(animal + \" is my favorite too!\")\n",
    "else:\n",
    "    print(\"You didn't say anything!\")"
   ]
  },
  {
   "cell_type": "markdown",
   "metadata": {},
   "source": [
    "## Comparison Operators\n",
    "==, !=, >, <, <=, >="
   ]
  },
  {
   "cell_type": "markdown",
   "metadata": {},
   "source": [
    "## Logical Operators\n",
    "and, or, not"
   ]
  },
  {
   "cell_type": "code",
   "execution_count": null,
   "metadata": {},
   "outputs": [],
   "source": [
    "if not is_weekend:\n",
    "    print('go to work')"
   ]
  },
  {
   "cell_type": "code",
   "execution_count": null,
   "metadata": {},
   "outputs": [],
   "source": [
    "age = 15\n",
    "# 2-8; $2\n",
    "# >= 65; $5\n",
    "# Everyone else; $10\n",
    "\n",
    "if not ((age >= 2 and age <= 8) or age >= 65):\n",
    "    # age = 15 example\n",
    "    # if not ((False) or False)\n",
    "    # if not (False)\n",
    "    # if True\n",
    "    print(\"You pay $10 and are not a child or senior.\")\n",
    "else:\n",
    "    print(\"You are a child or senior\")\n"
   ]
  },
  {
   "cell_type": "code",
   "execution_count": null,
   "metadata": {},
   "outputs": [],
   "source": [
    "1 < 2"
   ]
  },
  {
   "cell_type": "code",
   "execution_count": null,
   "metadata": {},
   "outputs": [],
   "source": [
    "not 1<2"
   ]
  },
  {
   "cell_type": "markdown",
   "metadata": {},
   "source": [
    "## is vs. ==\n",
    "Both are very similar. However, \"==\" is checking to see whether the VALUES are the same. \"is\" is checking whether they are **stored in the same place in memory.** \n",
    "\n",
    "Examples:\n",
    "* x = 13\n",
    "* y = 13\n",
    "* x == y True\n",
    "* x is y True because every time you reference the number 13 it's not a new object that's created memory.\n",
    "\n",
    "Another example:\n",
    "* a = [1,2]\n",
    "* b = [1,2]\n",
    "* a == b True\n",
    "* a is b False because these are separate **objects** in memory\n",
    "* clone = a\n",
    "* a is clone True"
   ]
  },
  {
   "cell_type": "code",
   "execution_count": null,
   "metadata": {},
   "outputs": [],
   "source": [
    "a = 1\n",
    "a == 1\n",
    "a is 1"
   ]
  },
  {
   "cell_type": "markdown",
   "metadata": {},
   "source": [
    "## Nested conditionals and Bouncer Code-Along"
   ]
  },
  {
   "cell_type": "code",
   "execution_count": 1,
   "metadata": {},
   "outputs": [
    {
     "name": "stdout",
     "output_type": "stream",
     "text": [
      "Come on in and have a drink!\n"
     ]
    }
   ],
   "source": [
    "# ask for age\n",
    "age = input(\"How old are you?: \")\n",
    "if age:  # Checking for Truthy\n",
    "    age = int(age) # Need to place within if/else\n",
    "    # 18-21 wristband\n",
    "    if age >= 18 and age <= 21:\n",
    "        print(f\"You can enter since you are {age}. However, you need a wristband.\")\n",
    "    # 21+ drink, normal entry\n",
    "    elif age > 21:\n",
    "        print(\"Come on in and have a drink!\")\n",
    "    # too young, sorry\n",
    "    else:\n",
    "        print(\"Too young, kid. Scram!\")\n",
    "else:\n",
    "    print(\"Please enter your age!\")"
   ]
  },
  {
   "cell_type": "code",
   "execution_count": 5,
   "metadata": {},
   "outputs": [
    {
     "name": "stdout",
     "output_type": "stream",
     "text": [
      "You can enter since you are 19. However, you need a wristband.\n"
     ]
    }
   ],
   "source": [
    "# alternative syntax\n",
    "age = input(\"How old are you?: \")\n",
    "if age:  # Checking for Truthy\n",
    "    age = int(age) # Need to place within if/else\n",
    "    # 18-21 wristband\n",
    "    if age >= 21:\n",
    "        print(\"Come on in and have a drink!\")\n",
    "    # 21+ drink, normal entry\n",
    "    elif age >= 18:\n",
    "        print(f\"You can enter since you are {age}. However, you need a wristband.\")\n",
    "    # too young, sorry\n",
    "    else:\n",
    "        print(\"Too young, kid. Scram!\")\n",
    "else:\n",
    "    print(\"Please enter your age!\")"
   ]
  },
  {
   "cell_type": "code",
   "execution_count": 6,
   "metadata": {},
   "outputs": [
    {
     "data": {
      "text/plain": [
       "'if not x or y:\\n    print(\"Winter in coming\")\\nelse:\\n    print(\"Valur Mogulas\")'"
      ]
     },
     "execution_count": 6,
     "metadata": {},
     "output_type": "execute_result"
    }
   ],
   "source": [
    "'''if not x or y:\n",
    "    print(\"Winter in coming\")\n",
    "else:\n",
    "    print(\"Valur Mogulas\")'''\n",
    "    \n",
    "# If x is falsey or if y is truthy, then it will print \"Winter is coming\""
   ]
  },
  {
   "cell_type": "markdown",
   "metadata": {},
   "source": [
    "## Coding Exercise: Positive or Negative Checking"
   ]
  },
  {
   "cell_type": "code",
   "execution_count": 8,
   "metadata": {},
   "outputs": [
    {
     "name": "stdout",
     "output_type": "stream",
     "text": [
      "y is positive and x is negative\n"
     ]
    }
   ],
   "source": [
    "# NO TOUCHING==NO TOUCHING==NO TOUCHING==NO TOUCHING #| \\\n",
    "from random import randint                           #|  \\\n",
    "x = randint(-100, 100)                               #|   \\\n",
    "while x == 0:  # make sure x isn't zero              #|    \\\n",
    "    x = randint(-100, 100)                           #|     NO TOUCHING!!!!!! (please)         \n",
    "y = randint(-100, 100)                               #|    /\n",
    "while y == 0:  # make sure y isn't zero              #|   /\n",
    "    y = randint(-100, 100)                           #|  /\n",
    "# NO TOUCHING==NO TOUCHING==NO TOUCHING==NO TOUCHING #| /\n",
    "\n",
    "\n",
    "\n",
    "# Don't change the print statements so the tests can pass!\n",
    "# YOUR CODE GOES HERE vvvvvvvvvvvvvvvvvvvvvvvvvvvvvvv\n",
    "\n",
    "if x > 0 and y > 0:\n",
    "    print(\"both positive\")\n",
    "elif x < 0 and y < 0:\n",
    "    print(\"both negative\")\n",
    "elif x > 0 and y < 0:\n",
    "    print(\"x is positive and y is negative\")\n",
    "else:\n",
    "    print(\"y is positive and x is negative\")\n",
    "\n",
    "# YOUR CODE GOES HERE ^^^^^^^^^^^^^^^^^^^^^^^^^^^^^^^^"
   ]
  },
  {
   "cell_type": "markdown",
   "metadata": {},
   "source": [
    "## Coding Exercise: calling_in_sick"
   ]
  },
  {
   "cell_type": "code",
   "execution_count": 15,
   "metadata": {},
   "outputs": [
    {
     "name": "stdout",
     "output_type": "stream",
     "text": [
      "False\n"
     ]
    }
   ],
   "source": [
    "# NO TOUCHING ======================================\n",
    "from random import choice, randint\n",
    " \n",
    "actually_sick = choice([True, False])\n",
    "kinda_sick = choice([True, False])\n",
    "hate_your_job = choice([True, False])\n",
    "sick_days = randint(0, 10)\n",
    "# NO TOUCHING ======================================\n",
    " \n",
    "calling_in_sick = None  # set this to True or False with Boolean Logic and Conditionals!\n",
    " \n",
    "# Note, we don't need to check if actually_sick == True\n",
    "#  Instead, just check if actually_sick, since it's a boolean\n",
    "    \n",
    "if actually_sick and sick_days > 0:\n",
    "    calling_in_sick = True\n",
    "elif kinda_sick and hate_your_job and sick_days > 0:\n",
    "    calling_in_sick = True\n",
    "else:\n",
    "    calling_in_sick = False\n",
    "    \n",
    "print(calling_in_sick)"
   ]
  },
  {
   "cell_type": "markdown",
   "metadata": {},
   "source": [
    "## Rock Paper Scissors"
   ]
  },
  {
   "cell_type": "code",
   "execution_count": null,
   "metadata": {},
   "outputs": [],
   "source": [
    "\n",
    "p1_choice = input(\"Player 1: Enter rock, paper, or scissors: \")\n",
    "p2_choice = input(\"Player 2: Enter rock, paper, or scissors: \")\n",
    "print(\"...rock...\\n...paper...\\n...scissors...\")\n",
    "print('SHOOT!')\n",
    "\n",
    "if p1_choice != p2_choice:\n",
    "    if p1_choice == 'rock' and p2_choice == 'paper':\n",
    "        print(f\"P1 chose {p1_choice}. P2 chose {p2_choice}. Player2 wins!\")\n",
    "    elif p1_choice == 'rock' and p2_choice == 'scissors':\n",
    "        print(f\"P1 chose {p1_choice}. P2 chose {p2_choice}. Player1 wins!\")\n",
    "    elif p1_choice == 'paper' and p2_choice == 'scissors':\n",
    "        print(f\"P1 chose {p1_choice}. P2 chose {p2_choice}. Player2 wins!\")\n",
    "    elif p1_choice == 'paper' and p2_choice == 'rock':\n",
    "        print(f\"P1 chose {p1_choice}. P2 chose {p2_choice}. Player1 wins!\")\n",
    "    elif p1_choice == 'scissors' and p2_choice == 'paper':\n",
    "        print(f\"P1 chose {p1_choice}. P2 chose {p2_choice}. Player1 wins!\")\n",
    "    elif p1_choice == 'scissors' and p2_choice == 'rock':\n",
    "        print(f\"P1 chose {p1_choice}. P2 chose {p2_choice}. Player2 wins!\")\n",
    "else:\n",
    "    print(f'It\\'s a tie! Play again!')"
   ]
  },
  {
   "cell_type": "code",
   "execution_count": null,
   "metadata": {},
   "outputs": [],
   "source": [
    "p1_choice = input(\"Player 1: Enter rock, paper, or scissors: \")\n",
    "p2_choice = input(\"Player 2: Enter rock, paper, or scissors: \")\n",
    "print(\"...rock...\\n...paper...\\n...scissors...\")\n",
    "print('SHOOT!')\n",
    "\n",
    "if p1_choice == 'rock':\n",
    "    if p2_choice == 'paper':\n",
    "        print(f\"P1 chose {p1_choice}. P2 chose {p2_choice}. Player2 wins!\")\n",
    "    elif p2_choice == 'scissors':\n",
    "        print(f\"P1 chose {p1_choice}. P2 chose {p2_choice}. Player1 wins!\")\n",
    "elif p1_choice == 'paper':\n",
    "    if p2_choice == 'scissors':\n",
    "        print(f\"P1 chose {p1_choice}. P2 chose {p2_choice}. Player2 wins!\")\n",
    "    elif p2_choice == 'rock':\n",
    "        print(f\"P1 chose {p1_choice}. P2 chose {p2_choice}. Player1 wins!\")\n",
    "elif p1_choice == 'scissors':\n",
    "    if p2_choice == 'paper':\n",
    "        print(f\"P1 chose {p1_choice}. P2 chose {p2_choice}. Player1 wins!\")\n",
    "    elif p2_choice == 'rock':\n",
    "        print(f\"P1 chose {p1_choice}. P2 chose {p2_choice}. Player2 wins!\")\n",
    "else:\n",
    "    print(f'It\\'s a tie! Play again!')"
   ]
  },
  {
   "cell_type": "raw",
   "metadata": {},
   "source": []
  }
 ],
 "metadata": {
  "kernelspec": {
   "display_name": "Python 3",
   "language": "python",
   "name": "python3"
  },
  "language_info": {
   "codemirror_mode": {
    "name": "ipython",
    "version": 3
   },
   "file_extension": ".py",
   "mimetype": "text/x-python",
   "name": "python",
   "nbconvert_exporter": "python",
   "pygments_lexer": "ipython3",
   "version": "3.6.6"
  }
 },
 "nbformat": 4,
 "nbformat_minor": 2
}
